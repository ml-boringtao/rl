{
 "cells": [
  {
   "cell_type": "code",
   "execution_count": 1,
   "metadata": {},
   "outputs": [],
   "source": [
    "from unityagents import UnityEnvironment\n",
    "import numpy as np\n",
    "import random\n",
    "import torch\n",
    "import torch.nn.functional as F\n",
    "from collections import deque\n",
    "import time\n",
    "\n",
    "import matplotlib.pyplot as plt\n",
    "%matplotlib inline\n",
    "\n",
    "import warnings\n",
    "warnings.filterwarnings(\"ignore\")\n",
    "\n",
    "from maddpg_agents import Maddpg\n",
    "from hyperparameters import *"
   ]
  },
  {
   "cell_type": "code",
   "execution_count": 2,
   "metadata": {},
   "outputs": [
    {
     "name": "stderr",
     "output_type": "stream",
     "text": [
      "INFO:unityagents:\n",
      "'Academy' started successfully!\n",
      "Unity Academy name: Academy\n",
      "        Number of Brains: 1\n",
      "        Number of External Brains : 1\n",
      "        Lesson number : 0\n",
      "        Reset Parameters :\n",
      "\t\t\n",
      "Unity brain name: TennisBrain\n",
      "        Number of Visual Observations (per agent): 0\n",
      "        Vector Observation space type: continuous\n",
      "        Vector Observation space size (per agent): 8\n",
      "        Number of stacked Vector Observation: 3\n",
      "        Vector Action space type: continuous\n",
      "        Vector Action space size (per agent): 2\n",
      "        Vector Action descriptions: , \n"
     ]
    }
   ],
   "source": [
    "env = UnityEnvironment(file_name=\"Tennis_Linux/Tennis.x86_64\")"
   ]
  },
  {
   "cell_type": "code",
   "execution_count": 3,
   "metadata": {},
   "outputs": [],
   "source": [
    "brain_name = env.brain_names[0]\n",
    "brain = env.brains[brain_name]"
   ]
  },
  {
   "cell_type": "code",
   "execution_count": 4,
   "metadata": {},
   "outputs": [
    {
     "name": "stdout",
     "output_type": "stream",
     "text": [
      "Number of agents: 2\n",
      "Size of each action: 2\n",
      "There are 2 agents. Each observes a state with length: 24\n",
      "The state for the first agent looks like: [ 0.          0.          0.          0.          0.          0.\n",
      "  0.          0.          0.          0.          0.          0.\n",
      "  0.          0.          0.          0.         -6.65278625 -1.5\n",
      " -0.          0.          6.83172083  6.         -0.          0.        ]\n"
     ]
    }
   ],
   "source": [
    "# reset the environment\n",
    "env_info = env.reset(train_mode=True)[brain_name]\n",
    "\n",
    "# number of agents \n",
    "num_agents = len(env_info.agents)\n",
    "print('Number of agents:', num_agents)\n",
    "\n",
    "# size of each action\n",
    "action_size = brain.vector_action_space_size\n",
    "print('Size of each action:', action_size)\n",
    "\n",
    "# examine the state space \n",
    "states = env_info.vector_observations\n",
    "state_size = states.shape[1]\n",
    "print('There are {} agents. Each observes a state with length: {}'.format(states.shape[0], state_size))\n",
    "print('The state for the first agent looks like:', states[0])"
   ]
  },
  {
   "cell_type": "code",
   "execution_count": 5,
   "metadata": {},
   "outputs": [],
   "source": [
    "def maddpg():\n",
    "    \n",
    "    np.random.seed(SEED)\n",
    "    torch.manual_seed(SEED)\n",
    "\n",
    "    maddpg = Maddpg(state_size=state_size, action_size=action_size, num_agents=num_agents, random_seed=SEED)\n",
    "\n",
    "    scores_deque = deque(maxlen=100)\n",
    "    all_scores = []\n",
    "    all_avg_score = []\n",
    "    \n",
    "    noise = NOISE\n",
    "    \n",
    "    for i_episode in range(NB_EPISODES+1):  \n",
    "             \n",
    "        env_info = env.reset(train_mode=True)[brain_name]          # reset the environment  \n",
    "        maddpg.reset()                                             # reset the agents \n",
    "            \n",
    "        states = env_info.vector_observations                      # get the current state for each agent \n",
    "        episode_scores = np.zeros(num_agents)                              # initialize the score (for each agent)\n",
    "\n",
    "        for steps in range(NB_STEPS):            \n",
    "            actions = maddpg.act(states, noise)                    # retrieve actions to performe for each agents \n",
    "            noise *= NOISE_REDUCTION                               # Decrease action noise\n",
    "            env_info = env.step(actions)[brain_name]               # send all actions to tne environment\n",
    "            next_states = env_info.vector_observations             # get next state for each agent\n",
    "            rewards = env_info.rewards                             # get reward (for each agent)\n",
    "            dones = env_info.local_done                            # see if episode finished\n",
    "            \n",
    "            maddpg.step(states, actions, rewards, next_states, dones, i_episode)  \n",
    "            episode_scores += np.array(rewards)                    # update the score (for each agent)\n",
    "            states = next_states                                   # roll over states to next time step\n",
    "            if np.any(dones):                                      # exit loop if episode finished\n",
    "                break\n",
    "        \n",
    "        episode_score  = np.max(episode_scores)  # Consider the maximum score amongs all Agents\n",
    "        all_scores.append(episode_score)\n",
    "        scores_deque.append(episode_score)\n",
    "        avg_score = np.mean(scores_deque)\n",
    "\n",
    "        print('\\rEpisode {}\\tAverage Score: {:.2f}\\tCurrent score: {:.2f}'.format(i_episode, avg_score, episode_score), end=\"\")\n",
    "        if i_episode>0 and i_episode % 100 == 0:\n",
    "            print('\\rEpisode: {}\\tAverage Score: {:.2f}\\tCurrent Score: {:.2f}'.format(i_episode, avg_score, episode_score))\n",
    "            maddpg.checkpoints(solution = 'maddpg')\n",
    "            all_avg_score.append(avg_score)\n",
    "        \n",
    "        if (i_episode > 99) and (avg_score >=0.5):\n",
    "            print('\\rEnvironment solved in {} episodes with an Average Score of {:.2f}'.format(i_episode, avg_score))\n",
    "            maddpg.checkpoints(solution = 'maddpg')\n",
    "            break\n",
    "        \n",
    "    np.save('output/maddpg_scores.npy', all_scores)\n",
    "    return all_scores"
   ]
  },
  {
   "cell_type": "code",
   "execution_count": 6,
   "metadata": {
    "scrolled": false
   },
   "outputs": [
    {
     "name": "stdout",
     "output_type": "stream",
     "text": [
      "Episode: 100\tAverage Score: 0.00\tCurrent Score: 0.00\n",
      "Episode: 200\tAverage Score: 0.01\tCurrent Score: 0.00\n",
      "Episode: 300\tAverage Score: 0.02\tCurrent Score: 0.00\n",
      "Episode: 400\tAverage Score: 0.02\tCurrent Score: 0.00\n",
      "Episode: 500\tAverage Score: 0.01\tCurrent Score: 0.00\n",
      "Episode: 600\tAverage Score: 0.02\tCurrent Score: 0.00\n",
      "Episode: 700\tAverage Score: 0.04\tCurrent Score: 0.10\n",
      "Episode: 800\tAverage Score: 0.04\tCurrent Score: 0.00\n",
      "Episode: 900\tAverage Score: 0.06\tCurrent Score: 0.10\n",
      "Episode: 1000\tAverage Score: 0.09\tCurrent Score: 0.00\n",
      "Episode: 1100\tAverage Score: 0.10\tCurrent Score: 0.30\n",
      "Episode: 1200\tAverage Score: 0.10\tCurrent Score: 0.10\n",
      "Episode: 1300\tAverage Score: 0.08\tCurrent Score: 0.10\n",
      "Episode: 1400\tAverage Score: 0.11\tCurrent Score: 0.19\n",
      "Episode: 1500\tAverage Score: 0.14\tCurrent Score: 0.20\n",
      "Episode: 1600\tAverage Score: 0.16\tCurrent Score: 0.20\n",
      "Episode: 1700\tAverage Score: 0.15\tCurrent Score: 0.10\n",
      "Episode: 1800\tAverage Score: 0.19\tCurrent Score: 0.10\n",
      "Episode: 1900\tAverage Score: 0.31\tCurrent Score: 1.50\n",
      "Episode: 2000\tAverage Score: 0.29\tCurrent Score: 0.10\n",
      "Episode: 2100\tAverage Score: 0.27\tCurrent Score: 0.30\n",
      "Episode: 2200\tAverage Score: 0.39\tCurrent Score: 0.20\n",
      "Episode: 2300\tAverage Score: 0.44\tCurrent Score: 0.10\n",
      "Environment solved in 2323 episodes with an Average Score of 0.51\n"
     ]
    }
   ],
   "source": [
    "scores = maddpg()"
   ]
  },
  {
   "cell_type": "code",
   "execution_count": 7,
   "metadata": {},
   "outputs": [
    {
     "data": {
      "image/png": "[encoded data removed]",
      "text/plain": [
       "<Figure size 432x288 with 1 Axes>"
      ]
     },
     "metadata": {
      "needs_background": "light"
     },
     "output_type": "display_data"
    }
   ],
   "source": [
    "f = plt.figure()\n",
    "ax = f.add_subplot(111)\n",
    "plt.plot(range(1, len(scores) + 1), scores)\n",
    "plt.xlabel('# Episodes')\n",
    "plt.ylabel('Scores')\n",
    "plt.savefig('output/maddpg_scores_plot.png')\n",
    "plt.show()"
   ]
  },
  {
   "cell_type": "code",
   "execution_count": 8,
   "metadata": {},
   "outputs": [],
   "source": [
    "env.close()"
   ]
  },
  {
   "cell_type": "code",
   "execution_count": null,
   "metadata": {},
   "outputs": [],
   "source": []
  }
 ],
 "metadata": {
  "kernelspec": {
   "display_name": "drlnd",
   "language": "python",
   "name": "drlnd"
  },
  "language_info": {
   "codemirror_mode": {
    "name": "ipython",
    "version": 3
   },
   "file_extension": ".py",
   "mimetype": "text/x-python",
   "name": "python",
   "nbconvert_exporter": "python",
   "pygments_lexer": "ipython3",
   "version": "3.6.8"
  }
 },
 "nbformat": 4,
 "nbformat_minor": 2
}
