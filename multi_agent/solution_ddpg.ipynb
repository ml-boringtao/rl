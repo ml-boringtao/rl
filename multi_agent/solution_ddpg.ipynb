{
 "cells": [
  {
   "cell_type": "code",
   "execution_count": 1,
   "metadata": {},
   "outputs": [],
   "source": [
    "from unityagents import UnityEnvironment\n",
    "import numpy as np\n",
    "\n",
    "from collections import deque\n",
    "import matplotlib.pyplot as plt\n",
    "%matplotlib inline\n",
    "\n",
    "import warnings\n",
    "warnings.filterwarnings(\"ignore\")\n",
    "\n",
    "import torch\n",
    "import torch.nn as nn\n",
    "import torch.nn.functional as F\n",
    "import torch.optim as optim\n",
    "\n",
    "from ddpg_agent_2 import Agent"
   ]
  },
  {
   "cell_type": "code",
   "execution_count": null,
   "metadata": {},
   "outputs": [],
   "source": [
    "env = UnityEnvironment(file_name=\"Tennis_Linux/Tennis.x86_64\")"
   ]
  },
  {
   "cell_type": "code",
   "execution_count": null,
   "metadata": {},
   "outputs": [],
   "source": [
    "brain_name = env.brain_names[0]\n",
    "brain = env.brains[brain_name]"
   ]
  },
  {
   "cell_type": "code",
   "execution_count": null,
   "metadata": {},
   "outputs": [],
   "source": [
    "# reset the environment\n",
    "env_info = env.reset(train_mode=True)[brain_name]\n",
    "\n",
    "# number of agents\n",
    "num_agents = len(env_info.agents)\n",
    "print('Number of agents:', num_agents)\n",
    "\n",
    "# size of each action\n",
    "action_size = brain.vector_action_space_size\n",
    "print('Size of each action:', action_size)\n",
    "\n",
    "# examine the state space \n",
    "states = env_info.vector_observations\n",
    "state_size = states.shape[1]\n",
    "print('There are {} agents. Each observes a state with length: {}'.format(states.shape[0], state_size))\n",
    "print('The state for the first agent looks like:', states[0])"
   ]
  },
  {
   "cell_type": "code",
   "execution_count": null,
   "metadata": {},
   "outputs": [],
   "source": [
    "seed = 42\n",
    "agent = Agent(state_size=state_size, action_size=action_size, n_agents=num_agents, seed=seed)"
   ]
  },
  {
   "cell_type": "code",
   "execution_count": null,
   "metadata": {},
   "outputs": [],
   "source": [
    "def ddpg(n_episodes=1000, max_t = 1000, window_size=100, score_threshold=30.0, \n",
    "         print_interval=10, epochs=1000):\n",
    "\n",
    "    scores_deque = deque(maxlen=window_size) \n",
    "    scores = []        \n",
    "    best_average_score = -np.inf\n",
    "    print(\"Training on {} started...\".format(agent.device))\n",
    "    \n",
    "    for i_episode in range(1, epochs+1):\n",
    "        \n",
    "        env_info = env.reset(train_mode=True)[brain_name]\n",
    "        states = env_info.vector_observations\n",
    "        \n",
    "        agent.reset()\n",
    "        episode_scores = np.zeros(num_agents) \n",
    "\n",
    "        for t in range(max_t):\n",
    "            actions = agent.act(states)\n",
    "            env_info = env.step(actions)[brain_name]\n",
    "            next_states = env_info.vector_observations\n",
    "            rewards = env_info.rewards\n",
    "            dones = env_info.local_done\n",
    "\n",
    "            agent.step(states=states, actions=actions, rewards=rewards, next_states=next_states, dones=dones)\n",
    "            episode_scores += np.array(rewards)\n",
    "            states = next_states\n",
    "            if np.any(dones):\n",
    "                break\n",
    "\n",
    "        episode_score = np.mean(episode_scores) # Summary of scores for this episode\n",
    "        scores_deque.append(episode_score)\n",
    "        scores.append(episode_score)\n",
    "        average_score = np.mean(scores_deque)\n",
    "\n",
    "        print('\\rEpisode: {}\\tAverage Score: {:.2f}\\tCurrent Score: {:.2f}'.format(i_episode, average_score, episode_score), end=\"\")\n",
    "        if i_episode % print_interval == 0:\n",
    "            print('\\rEpisode: {}\\tAverage Score: {:.2f}\\tCurrent Score: {:.2f}'.format(i_episode, average_score, episode_score))\n",
    "\n",
    "        if average_score >= score_threshold:\n",
    "            print('\\nEnvironment solved in {} episodes!\\tAverage Score: {:.2f}'.format(i_episode-window_size, average_score))\n",
    "            torch.save(agent.actor_local.state_dict(), 'output/ddpg_checkpoint_actor.pth')\n",
    "            torch.save(agent.critic_local.state_dict(), 'output/ddpg_checkpoint_critic.pth')\n",
    "            break\n",
    "\n",
    "    np.save('output/ddpg_scores.npy', scores)\n",
    "    return scores"
   ]
  },
  {
   "cell_type": "code",
   "execution_count": null,
   "metadata": {},
   "outputs": [],
   "source": [
    "scores = ddpg()"
   ]
  },
  {
   "cell_type": "code",
   "execution_count": null,
   "metadata": {},
   "outputs": [],
   "source": [
    "f = plt.figure()\n",
    "ax = f.add_subplot(111)\n",
    "plt.plot(range(1, len(scores) + 1), scores)\n",
    "plt.xlabel('# Episodes')\n",
    "plt.ylabel('Scores')\n",
    "plt.savefig('output/ddpg_20_scores_plot.png')\n",
    "plt.show()"
   ]
  },
  {
   "cell_type": "code",
   "execution_count": null,
   "metadata": {},
   "outputs": [],
   "source": [
    "env.close()"
   ]
  }
 ],
 "metadata": {
  "kernelspec": {
   "display_name": "drlnd",
   "language": "python",
   "name": "drlnd"
  },
  "language_info": {
   "codemirror_mode": {
    "name": "ipython",
    "version": 3
   },
   "file_extension": ".py",
   "mimetype": "text/x-python",
   "name": "python",
   "nbconvert_exporter": "python",
   "pygments_lexer": "ipython3",
   "version": "3.6.8"
  }
 },
 "nbformat": 4,
 "nbformat_minor": 2
}
