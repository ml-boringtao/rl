{
 "cells": [
  {
   "cell_type": "code",
   "execution_count": 1,
   "metadata": {},
   "outputs": [],
   "source": [
    "from unityagents import UnityEnvironment\n",
    "import numpy as np\n",
    "\n",
    "from collections import deque\n",
    "import matplotlib.pyplot as plt\n",
    "%matplotlib inline\n",
    "\n",
    "import warnings\n",
    "warnings.filterwarnings(\"ignore\")\n",
    "\n",
    "import torch\n",
    "import torch.nn as nn\n",
    "import torch.nn.functional as F\n",
    "import torch.optim as optim\n",
    "\n",
    "from ddpg_agent_2 import Agent"
   ]
  },
  {
   "cell_type": "code",
   "execution_count": 2,
   "metadata": {},
   "outputs": [
    {
     "name": "stderr",
     "output_type": "stream",
     "text": [
      "INFO:unityagents:\n",
      "'Academy' started successfully!\n",
      "Unity Academy name: Academy\n",
      "        Number of Brains: 1\n",
      "        Number of External Brains : 1\n",
      "        Lesson number : 0\n",
      "        Reset Parameters :\n",
      "\t\t\n",
      "Unity brain name: TennisBrain\n",
      "        Number of Visual Observations (per agent): 0\n",
      "        Vector Observation space type: continuous\n",
      "        Vector Observation space size (per agent): 8\n",
      "        Number of stacked Vector Observation: 3\n",
      "        Vector Action space type: continuous\n",
      "        Vector Action space size (per agent): 2\n",
      "        Vector Action descriptions: , \n"
     ]
    }
   ],
   "source": [
    "env = UnityEnvironment(file_name=\"Tennis_Linux/Tennis.x86_64\")"
   ]
  },
  {
   "cell_type": "code",
   "execution_count": 3,
   "metadata": {},
   "outputs": [],
   "source": [
    "brain_name = env.brain_names[0]\n",
    "brain = env.brains[brain_name]"
   ]
  },
  {
   "cell_type": "code",
   "execution_count": 4,
   "metadata": {},
   "outputs": [
    {
     "name": "stdout",
     "output_type": "stream",
     "text": [
      "Number of agents: 2\n",
      "Size of each action: 2\n",
      "There are 2 agents. Each observes a state with length: 24\n",
      "The state for the first agent looks like: [ 0.          0.          0.          0.          0.          0.\n",
      "  0.          0.          0.          0.          0.          0.\n",
      "  0.          0.          0.          0.         -6.65278625 -1.5\n",
      " -0.          0.          6.83172083  6.         -0.          0.        ]\n"
     ]
    }
   ],
   "source": [
    "# reset the environment\n",
    "env_info = env.reset(train_mode=True)[brain_name]\n",
    "\n",
    "# number of agents\n",
    "num_agents = len(env_info.agents)\n",
    "print('Number of agents:', num_agents)\n",
    "\n",
    "# size of each action\n",
    "action_size = brain.vector_action_space_size\n",
    "print('Size of each action:', action_size)\n",
    "\n",
    "# examine the state space \n",
    "states = env_info.vector_observations\n",
    "state_size = states.shape[1]\n",
    "print('There are {} agents. Each observes a state with length: {}'.format(states.shape[0], state_size))\n",
    "print('The state for the first agent looks like:', states[0])"
   ]
  },
  {
   "cell_type": "code",
   "execution_count": 5,
   "metadata": {},
   "outputs": [],
   "source": [
    "seed = 42\n",
    "agent = Agent(state_size=state_size, action_size=action_size, n_agents=num_agents, seed=seed)"
   ]
  },
  {
   "cell_type": "code",
   "execution_count": 6,
   "metadata": {},
   "outputs": [],
   "source": [
    "def ddpg(n_episodes=1000, max_t = 1000, window_size=100, score_threshold=0.5, \n",
    "         print_interval=100, epochs=10000):\n",
    "\n",
    "    scores_deque = deque(maxlen=window_size) \n",
    "    scores = []        \n",
    "    best_average_score = -np.inf\n",
    "    print(\"Training on {} started...\".format(agent.device))\n",
    "    \n",
    "    for i_episode in range(1, epochs+1):\n",
    "        \n",
    "        env_info = env.reset(train_mode=True)[brain_name]\n",
    "        states = env_info.vector_observations\n",
    "        \n",
    "        agent.reset()\n",
    "        episode_scores = np.zeros(num_agents) \n",
    "\n",
    "        for t in range(max_t):\n",
    "            actions = agent.act(states)\n",
    "            env_info = env.step(actions)[brain_name]\n",
    "            next_states = env_info.vector_observations\n",
    "            rewards = env_info.rewards\n",
    "            dones = env_info.local_done\n",
    "\n",
    "            agent.step(states=states, actions=actions, rewards=rewards, next_states=next_states, dones=dones)\n",
    "            episode_scores += np.array(rewards)\n",
    "            states = next_states\n",
    "            if np.any(dones):\n",
    "                break\n",
    "\n",
    "        episode_score = np.max(episode_scores) # Summary of scores for this episode\n",
    "        scores_deque.append(episode_score)\n",
    "        scores.append(episode_score)\n",
    "        average_score = np.mean(scores_deque)\n",
    "\n",
    "        print('\\rEpisode: {}\\tAverage Score: {:.2f}\\tCurrent Score: {:.2f}'.format(i_episode, average_score, episode_score), end=\"\")\n",
    "        if i_episode % print_interval == 0:\n",
    "            print('\\rEpisode: {}\\tAverage Score: {:.2f}\\tCurrent Score: {:.2f}'.format(i_episode, average_score, episode_score))\n",
    "\n",
    "        if average_score >= score_threshold:\n",
    "            print('\\nEnvironment solved in {} episodes!\\tAverage Score: {:.2f}'.format(i_episode-window_size, average_score))\n",
    "            torch.save(agent.actor_local.state_dict(), 'output/ddpg_checkpoint_actor.pth')\n",
    "            torch.save(agent.critic_local.state_dict(), 'output/ddpg_checkpoint_critic.pth')\n",
    "            break\n",
    "\n",
    "    np.save('output/ddpg_scores.npy', scores)\n",
    "    return scores"
   ]
  },
  {
   "cell_type": "code",
   "execution_count": 7,
   "metadata": {},
   "outputs": [
    {
     "name": "stdout",
     "output_type": "stream",
     "text": [
      "Training on cuda:0 started...\n",
      "Episode: 100\tAverage Score: -0.00\tCurrent Score: -0.00\n",
      "Episode: 200\tAverage Score: -0.00\tCurrent Score: -0.00\n",
      "Episode: 300\tAverage Score: -0.00\tCurrent Score: -0.00\n",
      "Episode: 400\tAverage Score: -0.00\tCurrent Score: -0.00\n",
      "Episode: 500\tAverage Score: 0.01\tCurrent Score: 0.0500\n",
      "Episode: 600\tAverage Score: 0.03\tCurrent Score: -0.00\n",
      "Episode: 700\tAverage Score: 0.01\tCurrent Score: -0.00\n",
      "Episode: 800\tAverage Score: -0.00\tCurrent Score: -0.00\n",
      "Episode: 900\tAverage Score: -0.00\tCurrent Score: -0.00\n",
      "Episode: 1000\tAverage Score: -0.00\tCurrent Score: -0.00\n",
      "Episode: 1100\tAverage Score: -0.00\tCurrent Score: 0.050\n",
      "Episode: 1200\tAverage Score: 0.01\tCurrent Score: 0.0500\n",
      "Episode: 1300\tAverage Score: 0.00\tCurrent Score: -0.00\n",
      "Episode: 1400\tAverage Score: 0.02\tCurrent Score: 0.050\n",
      "Episode: 1500\tAverage Score: 0.04\tCurrent Score: 0.050\n",
      "Episode: 1600\tAverage Score: 0.03\tCurrent Score: 0.050\n",
      "Episode: 1700\tAverage Score: 0.03\tCurrent Score: 0.050\n",
      "Episode: 1800\tAverage Score: 0.04\tCurrent Score: 0.050\n",
      "Episode: 1900\tAverage Score: 0.04\tCurrent Score: 0.050\n",
      "Episode: 2000\tAverage Score: 0.02\tCurrent Score: -0.00\n",
      "Episode: 2100\tAverage Score: 0.02\tCurrent Score: -0.00\n",
      "Episode: 2200\tAverage Score: 0.02\tCurrent Score: 0.050\n",
      "Episode: 2300\tAverage Score: 0.02\tCurrent Score: -0.00\n",
      "Episode: 2400\tAverage Score: 0.01\tCurrent Score: 0.050\n",
      "Episode: 2500\tAverage Score: 0.01\tCurrent Score: -0.00\n",
      "Episode: 2600\tAverage Score: 0.02\tCurrent Score: -0.00\n",
      "Episode: 2700\tAverage Score: 0.01\tCurrent Score: -0.00\n",
      "Episode: 2800\tAverage Score: 0.00\tCurrent Score: -0.00\n",
      "Episode: 2900\tAverage Score: -0.00\tCurrent Score: -0.00\n",
      "Episode: 3000\tAverage Score: 0.00\tCurrent Score: -0.000\n",
      "Episode: 3100\tAverage Score: -0.00\tCurrent Score: -0.00\n",
      "Episode: 3200\tAverage Score: -0.00\tCurrent Score: -0.00\n",
      "Episode: 3300\tAverage Score: -0.00\tCurrent Score: -0.00\n",
      "Episode: 3400\tAverage Score: -0.00\tCurrent Score: -0.00\n",
      "Episode: 3500\tAverage Score: -0.00\tCurrent Score: -0.00\n",
      "Episode: 3600\tAverage Score: -0.00\tCurrent Score: -0.00\n",
      "Episode: 3700\tAverage Score: -0.00\tCurrent Score: -0.00\n",
      "Episode: 3800\tAverage Score: -0.00\tCurrent Score: -0.00\n",
      "Episode: 3900\tAverage Score: -0.00\tCurrent Score: -0.00\n",
      "Episode: 4000\tAverage Score: -0.00\tCurrent Score: -0.00\n",
      "Episode: 4100\tAverage Score: -0.00\tCurrent Score: -0.00\n",
      "Episode: 4200\tAverage Score: -0.00\tCurrent Score: -0.00\n",
      "Episode: 4300\tAverage Score: -0.00\tCurrent Score: -0.00\n",
      "Episode: 4400\tAverage Score: -0.00\tCurrent Score: -0.00\n",
      "Episode: 4500\tAverage Score: 0.00\tCurrent Score: -0.000\n",
      "Episode: 4600\tAverage Score: 0.01\tCurrent Score: 0.050\n",
      "Episode: 4700\tAverage Score: 0.01\tCurrent Score: -0.00\n",
      "Episode: 4800\tAverage Score: 0.00\tCurrent Score: -0.00\n",
      "Episode: 4900\tAverage Score: -0.00\tCurrent Score: -0.00\n",
      "Episode: 5000\tAverage Score: -0.00\tCurrent Score: -0.00\n",
      "Episode: 5100\tAverage Score: -0.00\tCurrent Score: -0.00\n",
      "Episode: 5200\tAverage Score: -0.00\tCurrent Score: -0.00\n",
      "Episode: 5300\tAverage Score: -0.00\tCurrent Score: -0.00\n",
      "Episode: 5400\tAverage Score: -0.00\tCurrent Score: -0.00\n",
      "Episode: 5500\tAverage Score: -0.00\tCurrent Score: -0.00\n",
      "Episode: 5600\tAverage Score: 0.00\tCurrent Score: -0.000\n",
      "Episode: 5700\tAverage Score: 0.01\tCurrent Score: -0.000\n",
      "Episode: 5800\tAverage Score: -0.00\tCurrent Score: -0.00\n",
      "Episode: 5900\tAverage Score: -0.00\tCurrent Score: -0.00\n",
      "Episode: 6000\tAverage Score: 0.00\tCurrent Score: -0.000\n",
      "Episode: 6100\tAverage Score: -0.00\tCurrent Score: -0.00\n",
      "Episode: 6200\tAverage Score: -0.00\tCurrent Score: -0.00\n",
      "Episode: 6300\tAverage Score: -0.00\tCurrent Score: -0.00\n",
      "Episode: 6400\tAverage Score: -0.00\tCurrent Score: -0.00\n",
      "Episode: 6500\tAverage Score: -0.00\tCurrent Score: -0.00\n",
      "Episode: 6600\tAverage Score: -0.00\tCurrent Score: -0.00\n",
      "Episode: 6700\tAverage Score: -0.00\tCurrent Score: -0.00\n",
      "Episode: 6800\tAverage Score: -0.00\tCurrent Score: -0.00\n",
      "Episode: 6900\tAverage Score: -0.00\tCurrent Score: -0.00\n",
      "Episode: 7000\tAverage Score: -0.00\tCurrent Score: -0.00\n",
      "Episode: 7100\tAverage Score: -0.00\tCurrent Score: -0.00\n",
      "Episode: 7200\tAverage Score: -0.00\tCurrent Score: -0.00\n",
      "Episode: 7300\tAverage Score: -0.00\tCurrent Score: -0.00\n",
      "Episode: 7400\tAverage Score: -0.00\tCurrent Score: -0.00\n",
      "Episode: 7500\tAverage Score: -0.00\tCurrent Score: -0.00\n",
      "Episode: 7600\tAverage Score: -0.00\tCurrent Score: -0.00\n",
      "Episode: 7700\tAverage Score: -0.00\tCurrent Score: -0.00\n",
      "Episode: 7800\tAverage Score: -0.00\tCurrent Score: -0.00\n",
      "Episode: 7900\tAverage Score: -0.00\tCurrent Score: -0.00\n",
      "Episode: 8000\tAverage Score: -0.00\tCurrent Score: -0.00\n",
      "Episode: 8100\tAverage Score: -0.00\tCurrent Score: -0.00\n",
      "Episode: 8200\tAverage Score: -0.00\tCurrent Score: -0.00\n",
      "Episode: 8300\tAverage Score: -0.00\tCurrent Score: -0.00\n",
      "Episode: 8400\tAverage Score: -0.00\tCurrent Score: -0.00\n",
      "Episode: 8500\tAverage Score: -0.00\tCurrent Score: -0.00\n",
      "Episode: 8600\tAverage Score: -0.00\tCurrent Score: -0.00\n",
      "Episode: 8700\tAverage Score: -0.00\tCurrent Score: -0.00\n",
      "Episode: 8800\tAverage Score: -0.00\tCurrent Score: -0.00\n",
      "Episode: 8900\tAverage Score: -0.00\tCurrent Score: -0.00\n",
      "Episode: 9000\tAverage Score: -0.00\tCurrent Score: -0.00\n",
      "Episode: 9100\tAverage Score: -0.00\tCurrent Score: -0.00\n",
      "Episode: 9200\tAverage Score: -0.00\tCurrent Score: -0.00\n",
      "Episode: 9300\tAverage Score: -0.00\tCurrent Score: -0.00\n",
      "Episode: 9400\tAverage Score: -0.00\tCurrent Score: -0.00\n",
      "Episode: 9500\tAverage Score: -0.00\tCurrent Score: -0.00\n",
      "Episode: 9600\tAverage Score: -0.00\tCurrent Score: -0.00\n",
      "Episode: 9700\tAverage Score: -0.00\tCurrent Score: -0.00\n",
      "Episode: 9800\tAverage Score: -0.00\tCurrent Score: -0.00\n",
      "Episode: 9900\tAverage Score: -0.00\tCurrent Score: -0.00\n",
      "Episode: 9920\tAverage Score: -0.00\tCurrent Score: -0.00"
     ]
    },
    {
     "ename": "KeyboardInterrupt",
     "evalue": "",
     "output_type": "error",
     "traceback": [
      "\u001b[0;31m---------------------------------------------------------------------------\u001b[0m",
      "\u001b[0;31mKeyboardInterrupt\u001b[0m                         Traceback (most recent call last)",
      "\u001b[0;32m<ipython-input-7-4a8419b80771>\u001b[0m in \u001b[0;36m<module>\u001b[0;34m\u001b[0m\n\u001b[0;32m----> 1\u001b[0;31m \u001b[0mscores\u001b[0m \u001b[0;34m=\u001b[0m \u001b[0mddpg\u001b[0m\u001b[0;34m(\u001b[0m\u001b[0;34m)\u001b[0m\u001b[0;34m\u001b[0m\u001b[0;34m\u001b[0m\u001b[0m\n\u001b[0m",
      "\u001b[0;32m<ipython-input-6-2fdf63d3104b>\u001b[0m in \u001b[0;36mddpg\u001b[0;34m(n_episodes, max_t, window_size, score_threshold, print_interval, epochs)\u001b[0m\n\u001b[1;32m     22\u001b[0m             \u001b[0mdones\u001b[0m \u001b[0;34m=\u001b[0m \u001b[0menv_info\u001b[0m\u001b[0;34m.\u001b[0m\u001b[0mlocal_done\u001b[0m\u001b[0;34m\u001b[0m\u001b[0;34m\u001b[0m\u001b[0m\n\u001b[1;32m     23\u001b[0m \u001b[0;34m\u001b[0m\u001b[0m\n\u001b[0;32m---> 24\u001b[0;31m             \u001b[0magent\u001b[0m\u001b[0;34m.\u001b[0m\u001b[0mstep\u001b[0m\u001b[0;34m(\u001b[0m\u001b[0mstates\u001b[0m\u001b[0;34m=\u001b[0m\u001b[0mstates\u001b[0m\u001b[0;34m,\u001b[0m \u001b[0mactions\u001b[0m\u001b[0;34m=\u001b[0m\u001b[0mactions\u001b[0m\u001b[0;34m,\u001b[0m \u001b[0mrewards\u001b[0m\u001b[0;34m=\u001b[0m\u001b[0mrewards\u001b[0m\u001b[0;34m,\u001b[0m \u001b[0mnext_states\u001b[0m\u001b[0;34m=\u001b[0m\u001b[0mnext_states\u001b[0m\u001b[0;34m,\u001b[0m \u001b[0mdones\u001b[0m\u001b[0;34m=\u001b[0m\u001b[0mdones\u001b[0m\u001b[0;34m)\u001b[0m\u001b[0;34m\u001b[0m\u001b[0;34m\u001b[0m\u001b[0m\n\u001b[0m\u001b[1;32m     25\u001b[0m             \u001b[0mepisode_scores\u001b[0m \u001b[0;34m+=\u001b[0m \u001b[0mnp\u001b[0m\u001b[0;34m.\u001b[0m\u001b[0marray\u001b[0m\u001b[0;34m(\u001b[0m\u001b[0mrewards\u001b[0m\u001b[0;34m)\u001b[0m\u001b[0;34m\u001b[0m\u001b[0;34m\u001b[0m\u001b[0m\n\u001b[1;32m     26\u001b[0m             \u001b[0mstates\u001b[0m \u001b[0;34m=\u001b[0m \u001b[0mnext_states\u001b[0m\u001b[0;34m\u001b[0m\u001b[0;34m\u001b[0m\u001b[0m\n",
      "\u001b[0;32m~/Desktop/udacity_rl/multi_agent/ddpg_agent_2.py\u001b[0m in \u001b[0;36mstep\u001b[0;34m(self, states, actions, rewards, next_states, dones)\u001b[0m\n\u001b[1;32m     68\u001b[0m         \u001b[0;32mif\u001b[0m \u001b[0;34m(\u001b[0m\u001b[0mlen\u001b[0m\u001b[0;34m(\u001b[0m\u001b[0mself\u001b[0m\u001b[0;34m.\u001b[0m\u001b[0mmemory\u001b[0m\u001b[0;34m)\u001b[0m \u001b[0;34m>\u001b[0m \u001b[0mBATCH_SIZE\u001b[0m\u001b[0;34m)\u001b[0m \u001b[0;32mand\u001b[0m \u001b[0;34m(\u001b[0m\u001b[0mself\u001b[0m\u001b[0;34m.\u001b[0m\u001b[0mtimesteps\u001b[0m \u001b[0;34m%\u001b[0m \u001b[0;36m20\u001b[0m \u001b[0;34m==\u001b[0m \u001b[0;36m0\u001b[0m\u001b[0;34m)\u001b[0m\u001b[0;34m:\u001b[0m\u001b[0;34m\u001b[0m\u001b[0;34m\u001b[0m\u001b[0m\n\u001b[1;32m     69\u001b[0m             \u001b[0;32mfor\u001b[0m \u001b[0m_\u001b[0m \u001b[0;32min\u001b[0m \u001b[0mrange\u001b[0m\u001b[0;34m(\u001b[0m\u001b[0;36m10\u001b[0m\u001b[0;34m)\u001b[0m\u001b[0;34m:\u001b[0m\u001b[0;34m\u001b[0m\u001b[0;34m\u001b[0m\u001b[0m\n\u001b[0;32m---> 70\u001b[0;31m                 \u001b[0mexperiences\u001b[0m \u001b[0;34m=\u001b[0m \u001b[0mself\u001b[0m\u001b[0;34m.\u001b[0m\u001b[0mmemory\u001b[0m\u001b[0;34m.\u001b[0m\u001b[0msample\u001b[0m\u001b[0;34m(\u001b[0m\u001b[0;34m)\u001b[0m\u001b[0;34m\u001b[0m\u001b[0;34m\u001b[0m\u001b[0m\n\u001b[0m\u001b[1;32m     71\u001b[0m                 \u001b[0mself\u001b[0m\u001b[0;34m.\u001b[0m\u001b[0mlearn\u001b[0m\u001b[0;34m(\u001b[0m\u001b[0mexperiences\u001b[0m\u001b[0;34m,\u001b[0m \u001b[0mGAMMA\u001b[0m\u001b[0;34m)\u001b[0m\u001b[0;34m\u001b[0m\u001b[0;34m\u001b[0m\u001b[0m\n\u001b[1;32m     72\u001b[0m \u001b[0;34m\u001b[0m\u001b[0m\n",
      "\u001b[0;32m~/Desktop/udacity_rl/multi_agent/ddpg_agent_2.py\u001b[0m in \u001b[0;36msample\u001b[0;34m(self)\u001b[0m\n\u001b[1;32m    195\u001b[0m     \u001b[0;32mdef\u001b[0m \u001b[0msample\u001b[0m\u001b[0;34m(\u001b[0m\u001b[0mself\u001b[0m\u001b[0;34m)\u001b[0m\u001b[0;34m:\u001b[0m\u001b[0;34m\u001b[0m\u001b[0;34m\u001b[0m\u001b[0m\n\u001b[1;32m    196\u001b[0m         \u001b[0;34m\"\"\"Randomly sample a batch of experiences from memory.\"\"\"\u001b[0m\u001b[0;34m\u001b[0m\u001b[0;34m\u001b[0m\u001b[0m\n\u001b[0;32m--> 197\u001b[0;31m         \u001b[0mexperiences\u001b[0m \u001b[0;34m=\u001b[0m \u001b[0mrandom\u001b[0m\u001b[0;34m.\u001b[0m\u001b[0msample\u001b[0m\u001b[0;34m(\u001b[0m\u001b[0mself\u001b[0m\u001b[0;34m.\u001b[0m\u001b[0mmemory\u001b[0m\u001b[0;34m,\u001b[0m \u001b[0mk\u001b[0m\u001b[0;34m=\u001b[0m\u001b[0mself\u001b[0m\u001b[0;34m.\u001b[0m\u001b[0mbatch_size\u001b[0m\u001b[0;34m)\u001b[0m\u001b[0;34m\u001b[0m\u001b[0;34m\u001b[0m\u001b[0m\n\u001b[0m\u001b[1;32m    198\u001b[0m         \u001b[0mstates\u001b[0m \u001b[0;34m=\u001b[0m \u001b[0mtorch\u001b[0m\u001b[0;34m.\u001b[0m\u001b[0mfrom_numpy\u001b[0m\u001b[0;34m(\u001b[0m\u001b[0mnp\u001b[0m\u001b[0;34m.\u001b[0m\u001b[0mvstack\u001b[0m\u001b[0;34m(\u001b[0m\u001b[0;34m[\u001b[0m\u001b[0me\u001b[0m\u001b[0;34m.\u001b[0m\u001b[0mstate\u001b[0m \u001b[0;32mfor\u001b[0m \u001b[0me\u001b[0m \u001b[0;32min\u001b[0m \u001b[0mexperiences\u001b[0m \u001b[0;32mif\u001b[0m \u001b[0me\u001b[0m \u001b[0;32mis\u001b[0m \u001b[0;32mnot\u001b[0m \u001b[0;32mNone\u001b[0m\u001b[0;34m]\u001b[0m\u001b[0;34m)\u001b[0m\u001b[0;34m)\u001b[0m\u001b[0;34m.\u001b[0m\u001b[0mfloat\u001b[0m\u001b[0;34m(\u001b[0m\u001b[0;34m)\u001b[0m\u001b[0;34m.\u001b[0m\u001b[0mto\u001b[0m\u001b[0;34m(\u001b[0m\u001b[0mdevice\u001b[0m\u001b[0;34m)\u001b[0m\u001b[0;34m\u001b[0m\u001b[0;34m\u001b[0m\u001b[0m\n\u001b[1;32m    199\u001b[0m         \u001b[0mactions\u001b[0m \u001b[0;34m=\u001b[0m \u001b[0mtorch\u001b[0m\u001b[0;34m.\u001b[0m\u001b[0mfrom_numpy\u001b[0m\u001b[0;34m(\u001b[0m\u001b[0mnp\u001b[0m\u001b[0;34m.\u001b[0m\u001b[0mvstack\u001b[0m\u001b[0;34m(\u001b[0m\u001b[0;34m[\u001b[0m\u001b[0me\u001b[0m\u001b[0;34m.\u001b[0m\u001b[0maction\u001b[0m \u001b[0;32mfor\u001b[0m \u001b[0me\u001b[0m \u001b[0;32min\u001b[0m \u001b[0mexperiences\u001b[0m \u001b[0;32mif\u001b[0m \u001b[0me\u001b[0m \u001b[0;32mis\u001b[0m \u001b[0;32mnot\u001b[0m \u001b[0;32mNone\u001b[0m\u001b[0;34m]\u001b[0m\u001b[0;34m)\u001b[0m\u001b[0;34m)\u001b[0m\u001b[0;34m.\u001b[0m\u001b[0mfloat\u001b[0m\u001b[0;34m(\u001b[0m\u001b[0;34m)\u001b[0m\u001b[0;34m.\u001b[0m\u001b[0mto\u001b[0m\u001b[0;34m(\u001b[0m\u001b[0mdevice\u001b[0m\u001b[0;34m)\u001b[0m\u001b[0;34m\u001b[0m\u001b[0;34m\u001b[0m\u001b[0m\n",
      "\u001b[0;32m~/anaconda3/envs/drlnd/lib/python3.6/random.py\u001b[0m in \u001b[0;36msample\u001b[0;34m(self, population, k)\u001b[0m\n\u001b[1;32m    338\u001b[0m                     \u001b[0mj\u001b[0m \u001b[0;34m=\u001b[0m \u001b[0mrandbelow\u001b[0m\u001b[0;34m(\u001b[0m\u001b[0mn\u001b[0m\u001b[0;34m)\u001b[0m\u001b[0;34m\u001b[0m\u001b[0;34m\u001b[0m\u001b[0m\n\u001b[1;32m    339\u001b[0m                 \u001b[0mselected_add\u001b[0m\u001b[0;34m(\u001b[0m\u001b[0mj\u001b[0m\u001b[0;34m)\u001b[0m\u001b[0;34m\u001b[0m\u001b[0;34m\u001b[0m\u001b[0m\n\u001b[0;32m--> 340\u001b[0;31m                 \u001b[0mresult\u001b[0m\u001b[0;34m[\u001b[0m\u001b[0mi\u001b[0m\u001b[0;34m]\u001b[0m \u001b[0;34m=\u001b[0m \u001b[0mpopulation\u001b[0m\u001b[0;34m[\u001b[0m\u001b[0mj\u001b[0m\u001b[0;34m]\u001b[0m\u001b[0;34m\u001b[0m\u001b[0;34m\u001b[0m\u001b[0m\n\u001b[0m\u001b[1;32m    341\u001b[0m         \u001b[0;32mreturn\u001b[0m \u001b[0mresult\u001b[0m\u001b[0;34m\u001b[0m\u001b[0;34m\u001b[0m\u001b[0m\n\u001b[1;32m    342\u001b[0m \u001b[0;34m\u001b[0m\u001b[0m\n",
      "\u001b[0;31mKeyboardInterrupt\u001b[0m: "
     ]
    }
   ],
   "source": [
    "scores = ddpg()"
   ]
  },
  {
   "cell_type": "code",
   "execution_count": null,
   "metadata": {},
   "outputs": [],
   "source": [
    "f = plt.figure()\n",
    "ax = f.add_subplot(111)\n",
    "plt.plot(range(1, len(scores) + 1), scores)\n",
    "plt.xlabel('# Episodes')\n",
    "plt.ylabel('Scores')\n",
    "plt.savefig('output/ddpg_scores_plot.png')\n",
    "plt.show()"
   ]
  },
  {
   "cell_type": "code",
   "execution_count": null,
   "metadata": {},
   "outputs": [],
   "source": []
  }
 ],
 "metadata": {
  "kernelspec": {
   "display_name": "drlnd",
   "language": "python",
   "name": "drlnd"
  },
  "language_info": {
   "codemirror_mode": {
    "name": "ipython",
    "version": 3
   },
   "file_extension": ".py",
   "mimetype": "text/x-python",
   "name": "python",
   "nbconvert_exporter": "python",
   "pygments_lexer": "ipython3",
   "version": "3.6.8"
  }
 },
 "nbformat": 4,
 "nbformat_minor": 2
}
