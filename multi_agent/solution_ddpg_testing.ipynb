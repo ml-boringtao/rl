{
 "cells": [
  {
   "cell_type": "code",
   "execution_count": 1,
   "metadata": {},
   "outputs": [],
   "source": [
    "from unityagents import UnityEnvironment\n",
    "import numpy as np\n",
    "\n",
    "from collections import deque\n",
    "import matplotlib.pyplot as plt\n",
    "%matplotlib inline\n",
    "\n",
    "import warnings\n",
    "warnings.filterwarnings(\"ignore\")\n",
    "\n",
    "import torch\n",
    "import torch.nn as nn\n",
    "import torch.nn.functional as F\n",
    "import torch.optim as optim\n",
    "\n",
    "from ddpg_agent_testing import DDPGMultiAgent\n",
    "from utils import VisWriter, save_to_txt\n",
    "writer = VisWriter(vis=False)"
   ]
  },
  {
   "cell_type": "code",
   "execution_count": 2,
   "metadata": {},
   "outputs": [
    {
     "name": "stderr",
     "output_type": "stream",
     "text": [
      "INFO:unityagents:\n",
      "'Academy' started successfully!\n",
      "Unity Academy name: Academy\n",
      "        Number of Brains: 1\n",
      "        Number of External Brains : 1\n",
      "        Lesson number : 0\n",
      "        Reset Parameters :\n",
      "\t\t\n",
      "Unity brain name: TennisBrain\n",
      "        Number of Visual Observations (per agent): 0\n",
      "        Vector Observation space type: continuous\n",
      "        Vector Observation space size (per agent): 8\n",
      "        Number of stacked Vector Observation: 3\n",
      "        Vector Action space type: continuous\n",
      "        Vector Action space size (per agent): 2\n",
      "        Vector Action descriptions: , \n"
     ]
    }
   ],
   "source": [
    "env = UnityEnvironment(file_name=\"Tennis_Linux/Tennis.x86_64\")"
   ]
  },
  {
   "cell_type": "code",
   "execution_count": 3,
   "metadata": {},
   "outputs": [],
   "source": [
    "brain_name = env.brain_names[0]\n",
    "brain = env.brains[brain_name]"
   ]
  },
  {
   "cell_type": "code",
   "execution_count": 4,
   "metadata": {},
   "outputs": [
    {
     "name": "stdout",
     "output_type": "stream",
     "text": [
      "Number of agents: 2\n",
      "Size of each action: 2\n",
      "There are 2 agents. Each observes a state with length: 24\n",
      "The state for the first agent looks like: [ 0.          0.          0.          0.          0.          0.\n",
      "  0.          0.          0.          0.          0.          0.\n",
      "  0.          0.          0.          0.         -6.65278625 -1.5\n",
      " -0.          0.          6.83172083  6.         -0.          0.        ]\n"
     ]
    }
   ],
   "source": [
    "# reset the environment\n",
    "env_info = env.reset(train_mode=True)[brain_name]\n",
    "\n",
    "# number of agents\n",
    "num_agents = len(env_info.agents)\n",
    "print('Number of agents:', num_agents)\n",
    "\n",
    "# size of each action\n",
    "action_size = brain.vector_action_space_size\n",
    "print('Size of each action:', action_size)\n",
    "\n",
    "# examine the state space \n",
    "states = env_info.vector_observations\n",
    "state_size = states.shape[1]\n",
    "print('There are {} agents. Each observes a state with length: {}'.format(states.shape[0], state_size))\n",
    "print('The state for the first agent looks like:', states[0])"
   ]
  },
  {
   "cell_type": "code",
   "execution_count": 5,
   "metadata": {},
   "outputs": [
    {
     "name": "stderr",
     "output_type": "stream",
     "text": [
      "INFO:ddpg_multi:Initialised with random seed: 10\n"
     ]
    }
   ],
   "source": [
    "agent = DDPGMultiAgent(state_size, action_size, num_agents, writer=writer, random_seed=10, \n",
    "                        dirname=\"output\", print_every=100, model_path=None)"
   ]
  },
  {
   "cell_type": "code",
   "execution_count": 6,
   "metadata": {},
   "outputs": [],
   "source": [
    "def ddpg(env, brain_name, num_agents, agent, writer, n_episodes=300, max_t=1000, print_every=100, stop_on_solve=True):\n",
    "\n",
    "    best_score = -np.inf\n",
    "    scores_deque = deque(maxlen=100)\n",
    "    scores = []\n",
    "    for i_episode in range(1, n_episodes+1):\n",
    "        env_info = env.reset(train_mode=True)[brain_name]\n",
    "        states = env_info.vector_observations\n",
    "        agent.reset()\n",
    "        score = np.zeros(num_agents)\n",
    "        for t in range(max_t):\n",
    "            actions = agent.act(states)\n",
    "            env_info = env.step(actions)[brain_name]           # send all actions to tne environment\n",
    "            next_states = env_info.vector_observations         # get next state (for each agent)\n",
    "            rewards = env_info.rewards                         # get reward (for each agent)            \n",
    "            dones = env_info.local_done                        # see if episode finished\n",
    "            score += env_info.rewards                          # update the score (for each agent)\n",
    "            agent.step(states, actions, rewards, next_states, dones)\n",
    "            states = next_states                               # roll over states to next time step\n",
    "            if np.any(dones):                                  # exit loop if episode finished\n",
    "                break\n",
    "        \n",
    "        scores_deque.append(np.max(score))\n",
    "        scores.append(np.max(score))\n",
    "        current_score = np.mean(scores_deque)\n",
    "\n",
    "        if current_score > best_score:\n",
    "            best_score = current_score\n",
    "            agent.checkpoint()\n",
    "        \n",
    "        if i_episode % print_every == 0:\n",
    "            print('Episode {}\\tAverage Score: {:.2f}'.format(i_episode, current_score))\n",
    "\n",
    "        # check environment solved\n",
    "        if current_score >= 0.5:\n",
    "            print('Environment solved in {} episodes'.format(i_episode))\n",
    "            if stop_on_solve:\n",
    "                break\n",
    "            \n",
    "    print('Final Average Score: {:.2f}'.format(current_score))\n",
    "    return scores"
   ]
  },
  {
   "cell_type": "code",
   "execution_count": 7,
   "metadata": {},
   "outputs": [
    {
     "name": "stdout",
     "output_type": "stream",
     "text": [
      "Episode 100\tAverage Score: 0.00\n",
      "Episode 200\tAverage Score: 0.00\n",
      "Episode 300\tAverage Score: 0.03\n",
      "Episode 400\tAverage Score: 0.04\n",
      "Episode 500\tAverage Score: 0.05\n",
      "Episode 600\tAverage Score: 0.05\n",
      "Episode 700\tAverage Score: 0.05\n",
      "Episode 800\tAverage Score: 0.05\n",
      "Episode 900\tAverage Score: 0.05\n",
      "Episode 1000\tAverage Score: 0.02\n",
      "Episode 1100\tAverage Score: 0.07\n",
      "Episode 1200\tAverage Score: 0.12\n",
      "Episode 1300\tAverage Score: 0.13\n",
      "Episode 1400\tAverage Score: 0.14\n",
      "Episode 1500\tAverage Score: 0.15\n",
      "Episode 1600\tAverage Score: 0.14\n",
      "Episode 1700\tAverage Score: 0.14\n",
      "Episode 1800\tAverage Score: 0.15\n",
      "Episode 1900\tAverage Score: 0.18\n",
      "Episode 2000\tAverage Score: 0.18\n",
      "Episode 2100\tAverage Score: 0.24\n",
      "Episode 2200\tAverage Score: 0.25\n",
      "Episode 2300\tAverage Score: 0.21\n",
      "Episode 2400\tAverage Score: 0.20\n",
      "Episode 2500\tAverage Score: 0.18\n",
      "Episode 2600\tAverage Score: 0.21\n",
      "Episode 2700\tAverage Score: 0.25\n",
      "Episode 2800\tAverage Score: 0.23\n",
      "Episode 2900\tAverage Score: 0.23\n",
      "Episode 3000\tAverage Score: 0.25\n",
      "Episode 3100\tAverage Score: 0.26\n",
      "Episode 3200\tAverage Score: 0.24\n",
      "Episode 3300\tAverage Score: 0.26\n",
      "Episode 3400\tAverage Score: 0.20\n",
      "Episode 3500\tAverage Score: 0.22\n",
      "Episode 3600\tAverage Score: 0.21\n",
      "Episode 3700\tAverage Score: 0.23\n",
      "Episode 3800\tAverage Score: 0.22\n",
      "Episode 3900\tAverage Score: 0.21\n",
      "Episode 4000\tAverage Score: 0.20\n",
      "Episode 4100\tAverage Score: 0.24\n",
      "Episode 4200\tAverage Score: 0.24\n",
      "Episode 4300\tAverage Score: 0.23\n",
      "Episode 4400\tAverage Score: 0.22\n",
      "Episode 4500\tAverage Score: 0.23\n",
      "Episode 4600\tAverage Score: 0.22\n",
      "Episode 4700\tAverage Score: 0.25\n",
      "Episode 4800\tAverage Score: 0.23\n",
      "Episode 4900\tAverage Score: 0.21\n",
      "Episode 5000\tAverage Score: 0.22\n",
      "Episode 5100\tAverage Score: 0.22\n",
      "Episode 5200\tAverage Score: 0.21\n",
      "Episode 5300\tAverage Score: 0.23\n",
      "Episode 5400\tAverage Score: 0.24\n",
      "Episode 5500\tAverage Score: 0.24\n",
      "Episode 5600\tAverage Score: 0.21\n",
      "Episode 5700\tAverage Score: 0.21\n",
      "Episode 5800\tAverage Score: 0.25\n",
      "Episode 5900\tAverage Score: 0.23\n",
      "Episode 6000\tAverage Score: 0.23\n",
      "Episode 6100\tAverage Score: 0.18\n",
      "Episode 6200\tAverage Score: 0.17\n",
      "Episode 6300\tAverage Score: 0.14\n",
      "Episode 6400\tAverage Score: 0.16\n",
      "Episode 6500\tAverage Score: 0.18\n",
      "Episode 6600\tAverage Score: 0.18\n",
      "Episode 6700\tAverage Score: 0.16\n",
      "Episode 6800\tAverage Score: 0.16\n",
      "Episode 6900\tAverage Score: 0.17\n",
      "Episode 7000\tAverage Score: 0.19\n",
      "Episode 7100\tAverage Score: 0.16\n",
      "Episode 7200\tAverage Score: 0.21\n",
      "Episode 7300\tAverage Score: 0.24\n",
      "Episode 7400\tAverage Score: 0.24\n",
      "Episode 7500\tAverage Score: 0.19\n",
      "Episode 7600\tAverage Score: 0.17\n",
      "Episode 7700\tAverage Score: 0.24\n",
      "Episode 7800\tAverage Score: 0.26\n",
      "Episode 7900\tAverage Score: 0.26\n",
      "Episode 8000\tAverage Score: 0.25\n",
      "Episode 8100\tAverage Score: 0.23\n",
      "Episode 8200\tAverage Score: 0.23\n",
      "Episode 8300\tAverage Score: 0.26\n",
      "Episode 8400\tAverage Score: 0.27\n",
      "Episode 8500\tAverage Score: 0.26\n",
      "Episode 8600\tAverage Score: 0.26\n",
      "Episode 8700\tAverage Score: 0.25\n",
      "Episode 8800\tAverage Score: 0.22\n",
      "Episode 8900\tAverage Score: 0.19\n",
      "Episode 9000\tAverage Score: 0.20\n",
      "Episode 9100\tAverage Score: 0.15\n",
      "Episode 9200\tAverage Score: 0.20\n",
      "Episode 9300\tAverage Score: 0.17\n",
      "Episode 9400\tAverage Score: 0.15\n",
      "Episode 9500\tAverage Score: 0.14\n",
      "Episode 9600\tAverage Score: 0.15\n",
      "Episode 9700\tAverage Score: 0.15\n",
      "Episode 9800\tAverage Score: 0.16\n",
      "Episode 9900\tAverage Score: 0.17\n",
      "Episode 10000\tAverage Score: 0.16\n",
      "Final Average Score: 0.16\n"
     ]
    }
   ],
   "source": [
    "scores = ddpg(env, brain_name, num_agents, agent, writer=writer, n_episodes=10000, max_t=100, stop_on_solve=True)"
   ]
  },
  {
   "cell_type": "code",
   "execution_count": 8,
   "metadata": {},
   "outputs": [
    {
     "data": {
      "image/png": "[encoded data removed]",
      "text/plain": [
       "<Figure size 432x288 with 1 Axes>"
      ]
     },
     "metadata": {
      "needs_background": "light"
     },
     "output_type": "display_data"
    }
   ],
   "source": [
    "f = plt.figure()\n",
    "ax = f.add_subplot(111)\n",
    "plt.plot(range(1, len(scores) + 1), scores)\n",
    "plt.xlabel('# Episodes')\n",
    "plt.ylabel('Scores')\n",
    "plt.savefig('output/ddpg_scores_plot.png')\n",
    "plt.show()"
   ]
  },
  {
   "cell_type": "code",
   "execution_count": null,
   "metadata": {},
   "outputs": [],
   "source": []
  }
 ],
 "metadata": {
  "kernelspec": {
   "display_name": "drlnd",
   "language": "python",
   "name": "drlnd"
  },
  "language_info": {
   "codemirror_mode": {
    "name": "ipython",
    "version": 3
   },
   "file_extension": ".py",
   "mimetype": "text/x-python",
   "name": "python",
   "nbconvert_exporter": "python",
   "pygments_lexer": "ipython3",
   "version": "3.6.8"
  }
 },
 "nbformat": 4,
 "nbformat_minor": 2
}
