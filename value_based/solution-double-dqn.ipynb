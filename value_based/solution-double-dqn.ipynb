{
 "cells": [
  {
   "cell_type": "code",
   "execution_count": 1,
   "metadata": {},
   "outputs": [],
   "source": [
    "from unityagents import UnityEnvironment\n",
    "import numpy as np"
   ]
  },
  {
   "cell_type": "code",
   "execution_count": 11,
   "metadata": {},
   "outputs": [],
   "source": [
    "import random\n",
    "import torch\n",
    "import numpy as np\n",
    "from collections import deque\n",
    "import matplotlib.pyplot as plt\n",
    "%matplotlib inline\n",
    "\n",
    "plt.ion()"
   ]
  },
  {
   "cell_type": "code",
   "execution_count": 3,
   "metadata": {},
   "outputs": [
    {
     "name": "stderr",
     "output_type": "stream",
     "text": [
      "INFO:unityagents:\n",
      "'Academy' started successfully!\n",
      "Unity Academy name: Academy\n",
      "        Number of Brains: 1\n",
      "        Number of External Brains : 1\n",
      "        Lesson number : 0\n",
      "        Reset Parameters :\n",
      "\t\t\n",
      "Unity brain name: BananaBrain\n",
      "        Number of Visual Observations (per agent): 0\n",
      "        Vector Observation space type: continuous\n",
      "        Vector Observation space size (per agent): 37\n",
      "        Number of stacked Vector Observation: 1\n",
      "        Vector Action space type: discrete\n",
      "        Vector Action space size (per agent): 4\n",
      "        Vector Action descriptions: , , , \n"
     ]
    }
   ],
   "source": [
    "env = UnityEnvironment(file_name=\"Banana_Linux/Banana.x86_64\")"
   ]
  },
  {
   "cell_type": "code",
   "execution_count": 4,
   "metadata": {},
   "outputs": [],
   "source": [
    "# get the default brain\n",
    "brain_name = env.brain_names[0]\n",
    "brain = env.brains[brain_name]"
   ]
  },
  {
   "cell_type": "code",
   "execution_count": 5,
   "metadata": {},
   "outputs": [
    {
     "name": "stdout",
     "output_type": "stream",
     "text": [
      "Number of agents: 1\n",
      "Number of actions: 4\n",
      "States look like: [1.         0.         0.         0.         0.84408134 0.\n",
      " 0.         1.         0.         0.0748472  0.         1.\n",
      " 0.         0.         0.25755    1.         0.         0.\n",
      " 0.         0.74177343 0.         1.         0.         0.\n",
      " 0.25854847 0.         0.         1.         0.         0.09355672\n",
      " 0.         1.         0.         0.         0.31969345 0.\n",
      " 0.        ]\n",
      "States have length: 37\n"
     ]
    }
   ],
   "source": [
    "# reset the environment\n",
    "env_info = env.reset(train_mode=True)[brain_name]\n",
    "\n",
    "# number of agents in the environment\n",
    "print('Number of agents:', len(env_info.agents))\n",
    "\n",
    "# number of actions\n",
    "action_size = brain.vector_action_space_size\n",
    "print('Number of actions:', action_size)\n",
    "\n",
    "# examine the state space \n",
    "state = env_info.vector_observations[0]\n",
    "print('States look like:', state)\n",
    "state_size = len(state)\n",
    "print('States have length:', state_size)"
   ]
  },
  {
   "cell_type": "code",
   "execution_count": 6,
   "metadata": {},
   "outputs": [],
   "source": [
    "from dqn_agent import Agent\n",
    "from model import QNetwork, DuelingQNetwork\n",
    "\n",
    "# initialize the agent \n",
    "agent = Agent(state_size=state_size, action_size=action_size, qnetwork=QNetwork, update_type='double_dqn', seed=0)"
   ]
  },
  {
   "cell_type": "code",
   "execution_count": 8,
   "metadata": {},
   "outputs": [],
   "source": [
    "def dqn(n_episodes, max_t, eps_start, eps_end, eps_decay):\n",
    "    \n",
    "    scores = []                                               # list containing scores from each episode                 \n",
    "    scores_window = deque(maxlen=100)                         # store only the last 100 scores\n",
    "    eps = eps_start                                           # initialize epsilon (for epsilon-greedy policy)\n",
    "    \n",
    "    for i_episode in range(1, n_episodes + 1):                # run n_episodes\n",
    "        env_info = env.reset(train_mode=True)[brain_name]     # reset the environment\n",
    "        state = env_info.vector_observations[0]               # get the initial state\n",
    "        score = 0                                             # initialize the score\n",
    "        \n",
    "        for t in range(max_t):                                # run for maximum of max_t timesteps \n",
    "            action = agent.act(state, eps)                    # select the action\n",
    "            env_info = env.step(action)[brain_name] \n",
    "            next_state = env_info.vector_observations[0]      # get the state\n",
    "            reward = env_info.rewards[0]                      # get the reward\n",
    "            done = env_info.local_done[0]                     # whether the episode is complete or not\n",
    "            \n",
    "            agent.step(state, action, reward, next_state, done)  # train the agent \n",
    "            score += reward                                      # update the score\n",
    "            \n",
    "            state = next_state                                   # update the state\n",
    "            if done:                                             # break if episode is complete\n",
    "                break\n",
    "        \n",
    "        scores_window.append(score)                # update the window of scores\n",
    "        scores.append(score)                       # update the list of scores\n",
    "        eps = max(eps_end, eps * eps_decay)        # modify epsilon\n",
    "        average_score = np.mean(scores_window)\n",
    "        print('\\rEpisode {} \\tAverage score: {: .2f}'.format(i_episode, average_score), end=\"\")\n",
    "        \n",
    "        if i_episode % 100 == 0:\n",
    "            print('\\rEpisode {} \\tAverage score: {: .2f}'.format(i_episode, average_score))\n",
    "            \n",
    "        if average_score >= 13:      # check if environment is solved\n",
    "            print('\\nEnvironment solved in {: d} episodes!\\tAverage Score: {: .2f}'.format(i_episode - 100, average_score))\n",
    "            torch.save(agent.qnetwork_local.state_dict(), 'output/double-dqn.pth')\n",
    "            break\n",
    "    \n",
    "    return scores"
   ]
  },
  {
   "cell_type": "code",
   "execution_count": 9,
   "metadata": {},
   "outputs": [],
   "source": [
    "n_episodes = 5000\n",
    "max_t = 2000\n",
    "eps_start = 1.0\n",
    "eps_end = 0.1\n",
    "eps_decay = 0.995"
   ]
  },
  {
   "cell_type": "code",
   "execution_count": 12,
   "metadata": {},
   "outputs": [
    {
     "name": "stdout",
     "output_type": "stream",
     "text": [
      "Episode 100 \tAverage score:  0.89\n",
      "Episode 200 \tAverage score:  4.53\n",
      "Episode 300 \tAverage score:  8.13\n",
      "Episode 400 \tAverage score:  10.53\n",
      "Episode 500 \tAverage score:  12.38\n",
      "Episode 515 \tAverage score:  13.00\n",
      "Environment solved in  415 episodes!\tAverage Score:  13.00\n"
     ]
    }
   ],
   "source": [
    "scores = dqn(n_episodes, max_t, eps_start, eps_end, eps_decay)"
   ]
  },
  {
   "cell_type": "code",
   "execution_count": 14,
   "metadata": {},
   "outputs": [
    {
     "data": {
      "image/png": "[encoded data removed]",
      "text/plain": [
       "<Figure size 432x288 with 1 Axes>"
      ]
     },
     "metadata": {
      "needs_background": "light"
     },
     "output_type": "display_data"
    }
   ],
   "source": [
    "# plot the scores\n",
    "fig = plt.figure()\n",
    "ax = fig.add_subplot(111)\n",
    "plt.plot(np.arange(len(scores)), scores)\n",
    "plt.ylabel('Score')\n",
    "plt.xlabel('Episode #')\n",
    "plt.show()"
   ]
  },
  {
   "cell_type": "code",
   "execution_count": 15,
   "metadata": {},
   "outputs": [],
   "source": [
    "agent.qnetwork_local.load_state_dict(torch.load('output/double-dqn.pth'))"
   ]
  }
 ],
 "metadata": {
  "kernelspec": {
   "display_name": "drlnd",
   "language": "python",
   "name": "drlnd"
  },
  "language_info": {
   "codemirror_mode": {
    "name": "ipython",
    "version": 3
   },
   "file_extension": ".py",
   "mimetype": "text/x-python",
   "name": "python",
   "nbconvert_exporter": "python",
   "pygments_lexer": "ipython3",
   "version": "3.6.8"
  }
 },
 "nbformat": 4,
 "nbformat_minor": 2
}
